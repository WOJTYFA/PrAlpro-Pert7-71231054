{
 "cells": [
  {
   "cell_type": "code",
   "execution_count": 4,
   "metadata": {},
   "outputs": [],
   "source": [
    "#latihan 7.1\n",
    "def ini_anagram(kata1, kata2):\n",
    "\n",
    "    kata1 = kata1.replace(\" \",\"\").lower()\n",
    "    kata2 = kata2.replace(\" \",\"\").lower()\n",
    "\n",
    "    if len(kata1) != len(kata2):\n",
    "        return False\n",
    "    \n",
    "    sorted_kata1 = sorted(kata1)\n",
    "    sorted_kata2 = sorted(kata2)\n",
    "\n",
    "    if sorted_kata1 == sorted_kata2:\n",
    "        return True\n",
    "    else:\n",
    "        return False\n",
    "    \n",
    "    kata1 = input( \" masukan kata pertama : \")\n",
    "    kata2 = input(\" masukan kata kedua : \")\n",
    "\n",
    "    if ini_anagram(kata1, kata2):\n",
    "        print(f\"{kata1} dan {kata2} adalah anagram\")\n",
    "    else:\n",
    "        print(f\"{kata1} dan {kata2} adalah bukan anagram\")\n"
   ]
  },
  {
   "cell_type": "code",
   "execution_count": 3,
   "metadata": {},
   "outputs": [
    {
     "name": "stdout",
     "output_type": "stream",
     "text": [
      "saya ada 2 buah\n"
     ]
    }
   ],
   "source": [
    "#latihan 7.2\n",
    "def hitung_frekuensi_munculnya_kata(kalimat, kata):\n",
    "   \n",
    "    kata_kalimat = kalimat.split()\n",
    "\n",
    "    hitung = 0\n",
    "\n",
    "    for k in kata_kalimat:\n",
    "        if k.lower() == kata.lower():\n",
    "            hitung += 1\n",
    "\n",
    "    return hitung\n",
    "\n",
    "kalimat = input(\" masukan kalimatnya = \")\n",
    "kata_cari = input( \"masukan kata yang ingin dicari frekuensinya = \")\n",
    "\n",
    "frekuensi = hitung_frekuensi_munculnya_kata(kalimat, kata_cari)\n",
    "\n",
    "print(f\"{kata_cari} ada {frekuensi} buah\")"
   ]
  },
  {
   "cell_type": "code",
   "execution_count": 5,
   "metadata": {},
   "outputs": [
    {
     "name": "stdout",
     "output_type": "stream",
     "text": [
      "hasil setelah spasi berlebihan dihapus: \n",
      "untuk ibu saya\n"
     ]
    }
   ],
   "source": [
    "#latihan 7.3\n",
    "def hilangkan_spasi_berlebih(kalimat):\n",
    "    \n",
    "    kalimat_normal_spasi = \" \".join(kalimat.split())\n",
    "\n",
    "    return  kalimat_normal_spasi\n",
    "\n",
    "masukan_kalimat = input(\"masukkan kalimat string dengan spasi berlebih : \")\n",
    "\n",
    "kalimat_normal = hilangkan_spasi_berlebih(masukan_kalimat)\n",
    "\n",
    "print(\"hasil setelah spasi berlebihan dihapus: \")\n",
    "print(kalimat_normal)\n"
   ]
  },
  {
   "cell_type": "code",
   "execution_count": 9,
   "metadata": {},
   "outputs": [
    {
     "name": "stdout",
     "output_type": "stream",
     "text": [
      "kata terpendek: ke\n",
      "kata terpanjang: pantai\n"
     ]
    }
   ],
   "source": [
    "#latihan 7.4\n",
    "def menentukan_kata_tependek_dan_terpanjnag(kalimat):\n",
    "\n",
    "    kata_kalimat = kalimat.split()\n",
    "\n",
    "    kata_terpendek = kata_kalimat[0]\n",
    "    kata_terpanjang = kata_kalimat[0]\n",
    "\n",
    "    for kata in kata_kalimat:\n",
    "        if len(kata) < len(kata_terpendek):\n",
    "            kata_terpendek = kata\n",
    "\n",
    "        elif len(kata) > len(kata_terpanjang):\n",
    "            kata_terpanjang = kata\n",
    "\n",
    "    return kata_terpendek, kata_terpanjang\n",
    "\n",
    "masukan_kalimat = input(\"masukan kalmat: \")\n",
    "\n",
    "kata_terpendek, kata_terpanjang = menentukan_kata_tependek_dan_terpanjnag(kalimat)\n",
    "\n",
    "print(f\"kata terpendek: {kata_terpendek}\")\n",
    "print(f\"kata terpanjang: {kata_terpanjang}\")\n",
    "\n",
    "    "
   ]
  }
 ],
 "metadata": {
  "kernelspec": {
   "display_name": "Python 3",
   "language": "python",
   "name": "python3"
  },
  "language_info": {
   "codemirror_mode": {
    "name": "ipython",
    "version": 3
   },
   "file_extension": ".py",
   "mimetype": "text/x-python",
   "name": "python",
   "nbconvert_exporter": "python",
   "pygments_lexer": "ipython3",
   "version": "3.12.0"
  }
 },
 "nbformat": 4,
 "nbformat_minor": 2
}
